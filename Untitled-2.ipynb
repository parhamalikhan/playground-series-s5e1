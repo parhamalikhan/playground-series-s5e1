{
 "cells": [
  {
   "cell_type": "code",
   "execution_count": 1,
   "id": "afb59e8b-0187-4792-9def-d310fcf22f89",
   "metadata": {},
   "outputs": [],
   "source": [
    "import pandas as pd\n",
    "import numpy as np\n",
    "import matplotlib.pyplot as plt\n",
    "import seaborn as sns\n",
    "\n",
    "# Enable inline plotting\n",
    "%matplotlib inline\n"
   ]
  },
  {
   "cell_type": "code",
   "execution_count": 2,
   "id": "abf17833-16ef-4e66-a137-b28f238780f3",
   "metadata": {},
   "outputs": [
    {
     "name": "stdout",
     "output_type": "stream",
     "text": [
      "<class 'pandas.core.frame.DataFrame'>\n",
      "RangeIndex: 230130 entries, 0 to 230129\n",
      "Data columns (total 6 columns):\n",
      " #   Column    Non-Null Count   Dtype  \n",
      "---  ------    --------------   -----  \n",
      " 0   id        230130 non-null  int64  \n",
      " 1   date      230130 non-null  object \n",
      " 2   country   230130 non-null  object \n",
      " 3   store     230130 non-null  object \n",
      " 4   product   230130 non-null  object \n",
      " 5   num_sold  221259 non-null  float64\n",
      "dtypes: float64(1), int64(1), object(4)\n",
      "memory usage: 10.5+ MB\n",
      "None\n",
      "   id        date country              store             product  num_sold\n",
      "0   0  2010-01-01  Canada  Discount Stickers   Holographic Goose       NaN\n",
      "1   1  2010-01-01  Canada  Discount Stickers              Kaggle     973.0\n",
      "2   2  2010-01-01  Canada  Discount Stickers        Kaggle Tiers     906.0\n",
      "3   3  2010-01-01  Canada  Discount Stickers            Kerneler     423.0\n",
      "4   4  2010-01-01  Canada  Discount Stickers  Kerneler Dark Mode     491.0\n"
     ]
    }
   ],
   "source": [
    "# Load data\n",
    "train = pd.read_csv(\"/Users/parham/Downloads/playground-series-s5e1/train.csv\")\n",
    "test = pd.read_csv(\"/Users/parham/Downloads/playground-series-s5e1/test.csv\")\n",
    "\n",
    "# Quick overview\n",
    "print(train.info())\n",
    "print(train.head())\n"
   ]
  },
  {
   "cell_type": "code",
   "execution_count": 3,
   "id": "e3daf48e-9da1-4cd5-8db2-0358e6fbd883",
   "metadata": {
    "scrolled": true
   },
   "outputs": [
    {
     "name": "stdout",
     "output_type": "stream",
     "text": [
      "id             0\n",
      "date           0\n",
      "country        0\n",
      "store          0\n",
      "product        0\n",
      "num_sold    8871\n",
      "dtype: int64\n"
     ]
    }
   ],
   "source": [
    "print(train.isnull().sum())\n"
   ]
  },
  {
   "cell_type": "code",
   "execution_count": 4,
   "id": "b8a084db-63c5-434f-a649-23fe944f86e1",
   "metadata": {},
   "outputs": [
    {
     "name": "stdout",
     "output_type": "stream",
     "text": [
      "            id        date country              store            product  \\\n",
      "0            0  2010-01-01  Canada  Discount Stickers  Holographic Goose   \n",
      "45          45  2010-01-01   Kenya  Discount Stickers  Holographic Goose   \n",
      "90          90  2010-01-02  Canada  Discount Stickers  Holographic Goose   \n",
      "135        135  2010-01-02   Kenya  Discount Stickers  Holographic Goose   \n",
      "180        180  2010-01-03  Canada  Discount Stickers  Holographic Goose   \n",
      "...        ...         ...     ...                ...                ...   \n",
      "229905  229905  2016-12-29   Kenya  Discount Stickers  Holographic Goose   \n",
      "229950  229950  2016-12-30  Canada  Discount Stickers  Holographic Goose   \n",
      "229995  229995  2016-12-30   Kenya  Discount Stickers  Holographic Goose   \n",
      "230040  230040  2016-12-31  Canada  Discount Stickers  Holographic Goose   \n",
      "230085  230085  2016-12-31   Kenya  Discount Stickers  Holographic Goose   \n",
      "\n",
      "        num_sold  \n",
      "0            NaN  \n",
      "45           NaN  \n",
      "90           NaN  \n",
      "135          NaN  \n",
      "180          NaN  \n",
      "...          ...  \n",
      "229905       NaN  \n",
      "229950       NaN  \n",
      "229995       NaN  \n",
      "230040       NaN  \n",
      "230085       NaN  \n",
      "\n",
      "[8871 rows x 6 columns]\n"
     ]
    }
   ],
   "source": [
    "print(train[train['num_sold'].isnull()])\n"
   ]
  },
  {
   "cell_type": "code",
   "execution_count": 5,
   "id": "4cec3856-f325-405a-98fa-ee1be245e08f",
   "metadata": {},
   "outputs": [],
   "source": [
    "# Separate missing and non-missing data\n",
    "train_not_missing = train[train['num_sold'].notna()]  # Known values\n",
    "train_missing = train[train['num_sold'].isna()]  # Missing values\n",
    "features = ['date', 'country', 'store', 'product']\n",
    "\n",
    "# Convert categorical features to numerical\n",
    "train_encoded = pd.get_dummies(train_not_missing[features])\n",
    "train_missing_encoded = pd.get_dummies(train_missing[features])\n",
    "\n",
    "# Ensure missing data has the same columns as training data\n",
    "train_missing_encoded = train_missing_encoded.reindex(columns=train_encoded.columns, fill_value=0)\n"
   ]
  },
  {
   "cell_type": "code",
   "execution_count": null,
   "id": "7196c37f-54b6-4aba-91ec-f1e28e2e6337",
   "metadata": {},
   "outputs": [],
   "source": [
    "from sklearn.ensemble import RandomForestRegressor\n",
    "\n",
    "# Train model on known values\n",
    "rf_model = RandomForestRegressor(n_estimators=10, random_state=42)\n",
    "rf_model.fit(train_encoded, train_not_missing['num_sold'])\n",
    "\n",
    "# Predict missing values\n",
    "train.loc[train['num_sold'].isna(), 'num_sold'] = rf_model.predict(train_missing_encoded)\n",
    "\n",
    "print(\"Missing values filled using Random Forest!\")\n"
   ]
  },
  {
   "cell_type": "code",
   "execution_count": null,
   "id": "ba8a9f10-5659-49f6-9c75-792168f0f578",
   "metadata": {},
   "outputs": [],
   "source": [
    "from sklearn.linear_model import LinearRegression\n",
    "\n",
    "# Train model\n",
    "lr_model = LinearRegression()\n",
    "lr_model.fit(train_encoded, train_not_missing['num_sold'])\n",
    "\n",
    "# Predict missing values\n",
    "train.loc[train['num_sold'].isna(), 'num_sold'] = lr_model.predict(train_missing_encoded)\n",
    "\n",
    "print(\"Missing values filled using Linear Regression!\")\n"
   ]
  },
  {
   "cell_type": "code",
   "execution_count": null,
   "id": "570d7786-f594-4ded-923c-59e035615c6f",
   "metadata": {},
   "outputs": [],
   "source": []
  }
 ],
 "metadata": {
  "kernelspec": {
   "display_name": "Python 3 (ipykernel)",
   "language": "python",
   "name": "python3"
  },
  "language_info": {
   "codemirror_mode": {
    "name": "ipython",
    "version": 3
   },
   "file_extension": ".py",
   "mimetype": "text/x-python",
   "name": "python",
   "nbconvert_exporter": "python",
   "pygments_lexer": "ipython3",
   "version": "3.12.4"
  }
 },
 "nbformat": 4,
 "nbformat_minor": 5
}
