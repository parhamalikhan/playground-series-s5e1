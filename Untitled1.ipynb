{
  "cells": [
    {
      "cell_type": "markdown",
      "metadata": {
        "id": "view-in-github",
        "colab_type": "text"
      },
      "source": [
        "<a href=\"https://colab.research.google.com/github/parhamalikhan/playground-series-s5e1/blob/main/Untitled1.ipynb\" target=\"_parent\"><img src=\"https://colab.research.google.com/assets/colab-badge.svg\" alt=\"Open In Colab\"/></a>"
      ]
    },
    {
      "cell_type": "code",
      "execution_count": 22,
      "metadata": {
        "id": "I7z2pnQSMVsR"
      },
      "outputs": [],
      "source": [
        "# This project is part of the Kaggle Tabular Playground Series, where I aim to improve my data science and machine learning skills\n",
        "# through real-world-like synthetic datasets. The task involves predicting item sales across various stores and countries based on\n",
        "# features like date, product, and location.\n",
        "#\n",
        "# Goals:\n",
        "# - Explore and clean the data effectively\n",
        "# - Handle missing values using both statistical and model-based imputations\n",
        "# - Apply various machine learning models (Random Forest, Linear Regression, etc.)\n",
        "# - Compare model performance using appropriate evaluation metrics\n",
        "# - Visualize results and draw insights from the data\n",
        "#\n",
        "# Outcome:\n",
        "# This notebook demonstrates my workflow, modeling decisions, and analytical approach, making it a strong addition to my GitHub\n",
        "# portfolio and a valuable step toward a career in data science."
      ]
    },
    {
      "cell_type": "code",
      "execution_count": 23,
      "metadata": {
        "id": "UyR9kAwWNDWq"
      },
      "outputs": [],
      "source": [
        "# Basic libraries\n",
        "import pandas as pd\n",
        "import numpy as np\n",
        "\n",
        "# Visualization\n",
        "import matplotlib.pyplot as plt\n",
        "import seaborn as sns\n",
        "\n",
        "# Machine Learning models\n",
        "from sklearn.ensemble import RandomForestRegressor\n",
        "from sklearn.linear_model import LinearRegression\n",
        "\n",
        "# Preprocessing\n",
        "from sklearn.preprocessing import LabelEncoder\n",
        "\n",
        "# Model evaluation\n",
        "from sklearn.metrics import mean_squared_error\n",
        "\n",
        "# Display plots inline\n",
        "%matplotlib inline\n"
      ]
    },
    {
      "cell_type": "code",
      "execution_count": 24,
      "metadata": {
        "colab": {
          "base_uri": "https://localhost:8080/"
        },
        "id": "9jUvhAS5NMhI",
        "outputId": "9f2310b3-8e79-4544-ab28-243ac63db78a"
      },
      "outputs": [
        {
          "output_type": "stream",
          "name": "stdout",
          "text": [
            "Drive already mounted at /content/drive; to attempt to forcibly remount, call drive.mount(\"/content/drive\", force_remount=True).\n"
          ]
        }
      ],
      "source": [
        "from google.colab import drive\n",
        "drive.mount('/content/drive')\n"
      ]
    },
    {
      "cell_type": "code",
      "execution_count": 25,
      "metadata": {
        "id": "snwwP122bf5E"
      },
      "outputs": [],
      "source": [
        "import pandas as pd\n",
        "\n",
        "train = pd.read_csv('/content/drive/MyDrive/playground-series-s5e1/train.csv')\n",
        "test = pd.read_csv('/content/drive/MyDrive/playground-series-s5e1/test.csv')\n",
        "sample_submission = pd.read_csv('/content/drive/MyDrive/playground-series-s5e1/sample_submission.csv')\n"
      ]
    },
    {
      "cell_type": "code",
      "execution_count": 26,
      "metadata": {
        "colab": {
          "base_uri": "https://localhost:8080/",
          "height": 269
        },
        "id": "3TlK17FodMGc",
        "outputId": "e9ec9ba4-cc18-4f68-8dd9-938936226968"
      },
      "outputs": [
        {
          "output_type": "execute_result",
          "data": {
            "text/plain": [
              "id             0\n",
              "date           0\n",
              "country        0\n",
              "store          0\n",
              "product        0\n",
              "num_sold    8871\n",
              "dtype: int64"
            ],
            "text/html": [
              "<div>\n",
              "<style scoped>\n",
              "    .dataframe tbody tr th:only-of-type {\n",
              "        vertical-align: middle;\n",
              "    }\n",
              "\n",
              "    .dataframe tbody tr th {\n",
              "        vertical-align: top;\n",
              "    }\n",
              "\n",
              "    .dataframe thead th {\n",
              "        text-align: right;\n",
              "    }\n",
              "</style>\n",
              "<table border=\"1\" class=\"dataframe\">\n",
              "  <thead>\n",
              "    <tr style=\"text-align: right;\">\n",
              "      <th></th>\n",
              "      <th>0</th>\n",
              "    </tr>\n",
              "  </thead>\n",
              "  <tbody>\n",
              "    <tr>\n",
              "      <th>id</th>\n",
              "      <td>0</td>\n",
              "    </tr>\n",
              "    <tr>\n",
              "      <th>date</th>\n",
              "      <td>0</td>\n",
              "    </tr>\n",
              "    <tr>\n",
              "      <th>country</th>\n",
              "      <td>0</td>\n",
              "    </tr>\n",
              "    <tr>\n",
              "      <th>store</th>\n",
              "      <td>0</td>\n",
              "    </tr>\n",
              "    <tr>\n",
              "      <th>product</th>\n",
              "      <td>0</td>\n",
              "    </tr>\n",
              "    <tr>\n",
              "      <th>num_sold</th>\n",
              "      <td>8871</td>\n",
              "    </tr>\n",
              "  </tbody>\n",
              "</table>\n",
              "</div><br><label><b>dtype:</b> int64</label>"
            ]
          },
          "metadata": {},
          "execution_count": 26
        }
      ],
      "source": [
        "# check for missing values in the dataset to see where we\n",
        "train.isnull().sum()\n"
      ]
    },
    {
      "cell_type": "code",
      "execution_count": 27,
      "metadata": {
        "id": "-iO824NYdVnT"
      },
      "outputs": [],
      "source": [
        "# Encoding categorical columns\n",
        "train_encoded = pd.get_dummies(train, drop_first=True)\n"
      ]
    },
    {
      "cell_type": "code",
      "execution_count": 28,
      "metadata": {
        "colab": {
          "base_uri": "https://localhost:8080/"
        },
        "id": "iVha16DMdZLb",
        "outputId": "2bcedc30-04bb-4899-dded-857fc1a9443c"
      },
      "outputs": [
        {
          "output_type": "stream",
          "name": "stdout",
          "text": [
            "✅ Missing values filled using Random Forest with sampled training data!\n"
          ]
        }
      ],
      "source": [
        "from sklearn.ensemble import RandomForestRegressor\n",
        "\n",
        "# 1. Split into missing and not missing as before\n",
        "train_not_missing = train[train['num_sold'].notna()]\n",
        "train_missing = train[train['num_sold'].isna()]\n",
        "\n",
        "# 2. Encode them (use get_dummies on both, then align columns)\n",
        "train_encoded = pd.get_dummies(train.drop(columns=['num_sold']))\n",
        "train_not_missing_encoded = train_encoded.loc[train_not_missing.index]\n",
        "train_missing_encoded = train_encoded.loc[train_missing.index]\n",
        "\n",
        "# Align columns (in case dummies are not equal)\n",
        "train_missing_encoded, train_not_missing_encoded = train_missing_encoded.align(train_not_missing_encoded, join='left', axis=1, fill_value=0)\n",
        "\n",
        "# 3. Take a chunk/sample of the data (e.g., 10,000 rows)\n",
        "train_sample = train_not_missing_encoded.sample(n=10000, random_state=42)\n",
        "target_sample = train_not_missing.loc[train_sample.index, 'num_sold']\n",
        "\n",
        "# 4. Train model on the chunk\n",
        "rf_model = RandomForestRegressor(n_estimators=50, random_state=42)\n",
        "rf_model.fit(train_sample, target_sample)\n",
        "\n",
        "# 5. Predict and fill missing values\n",
        "train.loc[train['num_sold'].isna(), 'num_sold'] = rf_model.predict(train_missing_encoded)\n",
        "\n",
        "print(\"✅ Missing values filled using Random Forest with sampled training data!\")\n"
      ]
    },
    {
      "cell_type": "code",
      "source": [
        "train.isnull().sum()\n"
      ],
      "metadata": {
        "colab": {
          "base_uri": "https://localhost:8080/",
          "height": 269
        },
        "id": "7vL0IF9I5Xug",
        "outputId": "9cd00bc9-1c02-4b9b-dad9-2bb312c209e9"
      },
      "execution_count": 29,
      "outputs": [
        {
          "output_type": "execute_result",
          "data": {
            "text/plain": [
              "id          0\n",
              "date        0\n",
              "country     0\n",
              "store       0\n",
              "product     0\n",
              "num_sold    0\n",
              "dtype: int64"
            ],
            "text/html": [
              "<div>\n",
              "<style scoped>\n",
              "    .dataframe tbody tr th:only-of-type {\n",
              "        vertical-align: middle;\n",
              "    }\n",
              "\n",
              "    .dataframe tbody tr th {\n",
              "        vertical-align: top;\n",
              "    }\n",
              "\n",
              "    .dataframe thead th {\n",
              "        text-align: right;\n",
              "    }\n",
              "</style>\n",
              "<table border=\"1\" class=\"dataframe\">\n",
              "  <thead>\n",
              "    <tr style=\"text-align: right;\">\n",
              "      <th></th>\n",
              "      <th>0</th>\n",
              "    </tr>\n",
              "  </thead>\n",
              "  <tbody>\n",
              "    <tr>\n",
              "      <th>id</th>\n",
              "      <td>0</td>\n",
              "    </tr>\n",
              "    <tr>\n",
              "      <th>date</th>\n",
              "      <td>0</td>\n",
              "    </tr>\n",
              "    <tr>\n",
              "      <th>country</th>\n",
              "      <td>0</td>\n",
              "    </tr>\n",
              "    <tr>\n",
              "      <th>store</th>\n",
              "      <td>0</td>\n",
              "    </tr>\n",
              "    <tr>\n",
              "      <th>product</th>\n",
              "      <td>0</td>\n",
              "    </tr>\n",
              "    <tr>\n",
              "      <th>num_sold</th>\n",
              "      <td>0</td>\n",
              "    </tr>\n",
              "  </tbody>\n",
              "</table>\n",
              "</div><br><label><b>dtype:</b> int64</label>"
            ]
          },
          "metadata": {},
          "execution_count": 29
        }
      ]
    },
    {
      "cell_type": "code",
      "source": [
        "train.describe()\n",
        "train['num_sold'].hist()\n"
      ],
      "metadata": {
        "colab": {
          "base_uri": "https://localhost:8080/",
          "height": 447
        },
        "id": "Ku-KkHWl8COM",
        "outputId": "23157f16-c2bb-48bd-fc4a-2298c795ac9c"
      },
      "execution_count": 30,
      "outputs": [
        {
          "output_type": "execute_result",
          "data": {
            "text/plain": [
              "<Axes: >"
            ]
          },
          "metadata": {},
          "execution_count": 30
        },
        {
          "output_type": "display_data",
          "data": {
            "text/plain": [
              "<Figure size 640x480 with 1 Axes>"
            ],
            "image/png": "[encoded data removed]"
          },
          "metadata": {}
        }
      ]
    },
    {
      "cell_type": "code",
      "source": [
        "train.describe()\n"
      ],
      "metadata": {
        "colab": {
          "base_uri": "https://localhost:8080/",
          "height": 297
        },
        "id": "s_e6RMJs8qb3",
        "outputId": "81fc5497-cdb2-4b1a-a9eb-3ec6ca692d0a"
      },
      "execution_count": 31,
      "outputs": [
        {
          "output_type": "execute_result",
          "data": {
            "text/plain": [
              "                  id       num_sold\n",
              "count  230130.000000  230130.000000\n",
              "mean   115064.500000     726.365260\n",
              "std     66432.953062     689.417642\n",
              "min         0.000000       5.000000\n",
              "25%     57532.250000     195.000000\n",
              "50%    115064.500000     575.000000\n",
              "75%    172596.750000    1084.000000\n",
              "max    230129.000000    5939.000000"
            ],
            "text/html": [
              "\n",
              "  <div id=\"df-9f3b984b-39bf-415b-af19-3bb91d669632\" class=\"colab-df-container\">\n",
              "    <div>\n",
              "<style scoped>\n",
              "    .dataframe tbody tr th:only-of-type {\n",
              "        vertical-align: middle;\n",
              "    }\n",
              "\n",
              "    .dataframe tbody tr th {\n",
              "        vertical-align: top;\n",
              "    }\n",
              "\n",
              "    .dataframe thead th {\n",
              "        text-align: right;\n",
              "    }\n",
              "</style>\n",
              "<table border=\"1\" class=\"dataframe\">\n",
              "  <thead>\n",
              "    <tr style=\"text-align: right;\">\n",
              "      <th></th>\n",
              "      <th>id</th>\n",
              "      <th>num_sold</th>\n",
              "    </tr>\n",
              "  </thead>\n",
              "  <tbody>\n",
              "    <tr>\n",
              "      <th>count</th>\n",
              "      <td>230130.000000</td>\n",
              "      <td>230130.000000</td>\n",
              "    </tr>\n",
              "    <tr>\n",
              "      <th>mean</th>\n",
              "      <td>115064.500000</td>\n",
              "      <td>726.365260</td>\n",
              "    </tr>\n",
              "    <tr>\n",
              "      <th>std</th>\n",
              "      <td>66432.953062</td>\n",
              "      <td>689.417642</td>\n",
              "    </tr>\n",
              "    <tr>\n",
              "      <th>min</th>\n",
              "      <td>0.000000</td>\n",
              "      <td>5.000000</td>\n",
              "    </tr>\n",
              "    <tr>\n",
              "      <th>25%</th>\n",
              "      <td>57532.250000</td>\n",
              "      <td>195.000000</td>\n",
              "    </tr>\n",
              "    <tr>\n",
              "      <th>50%</th>\n",
              "      <td>115064.500000</td>\n",
              "      <td>575.000000</td>\n",
              "    </tr>\n",
              "    <tr>\n",
              "      <th>75%</th>\n",
              "      <td>172596.750000</td>\n",
              "      <td>1084.000000</td>\n",
              "    </tr>\n",
              "    <tr>\n",
              "      <th>max</th>\n",
              "      <td>230129.000000</td>\n",
              "      <td>5939.000000</td>\n",
              "    </tr>\n",
              "  </tbody>\n",
              "</table>\n",
              "</div>\n",
              "    <div class=\"colab-df-buttons\">\n",
              "\n",
              "  <div class=\"colab-df-container\">\n",
              "    <button class=\"colab-df-convert\" onclick=\"convertToInteractive('df-9f3b984b-39bf-415b-af19-3bb91d669632')\"\n",
              "            title=\"Convert this dataframe to an interactive table.\"\n",
              "            style=\"display:none;\">\n",
              "\n",
              "  <svg xmlns=\"http://www.w3.org/2000/svg\" height=\"24px\" viewBox=\"0 -960 960 960\">\n",
              "    <path d=\"M120-120v-720h720v720H120Zm60-500h600v-160H180v160Zm220 220h160v-160H400v160Zm0 220h160v-160H400v160ZM180-400h160v-160H180v160Zm440 0h160v-160H620v160ZM180-180h160v-160H180v160Zm440 0h160v-160H620v160Z\"/>\n",
              "  </svg>\n",
              "    </button>\n",
              "\n",
              "  <style>\n",
              "    .colab-df-container {\n",
              "      display:flex;\n",
              "      gap: 12px;\n",
              "    }\n",
              "\n",
              "    .colab-df-convert {\n",
              "      background-color: #E8F0FE;\n",
              "      border: none;\n",
              "      border-radius: 50%;\n",
              "      cursor: pointer;\n",
              "      display: none;\n",
              "      fill: #1967D2;\n",
              "      height: 32px;\n",
              "      padding: 0 0 0 0;\n",
              "      width: 32px;\n",
              "    }\n",
              "\n",
              "    .colab-df-convert:hover {\n",
              "      background-color: #E2EBFA;\n",
              "      box-shadow: 0px 1px 2px rgba(60, 64, 67, 0.3), 0px 1px 3px 1px rgba(60, 64, 67, 0.15);\n",
              "      fill: #174EA6;\n",
              "    }\n",
              "\n",
              "    .colab-df-buttons div {\n",
              "      margin-bottom: 4px;\n",
              "    }\n",
              "\n",
              "    [theme=dark] .colab-df-convert {\n",
              "      background-color: #3B4455;\n",
              "      fill: #D2E3FC;\n",
              "    }\n",
              "\n",
              "    [theme=dark] .colab-df-convert:hover {\n",
              "      background-color: #434B5C;\n",
              "      box-shadow: 0px 1px 3px 1px rgba(0, 0, 0, 0.15);\n",
              "      filter: drop-shadow(0px 1px 2px rgba(0, 0, 0, 0.3));\n",
              "      fill: #FFFFFF;\n",
              "    }\n",
              "  </style>\n",
              "\n",
              "    <script>\n",
              "      const buttonEl =\n",
              "        document.querySelector('#df-9f3b984b-39bf-415b-af19-3bb91d669632 button.colab-df-convert');\n",
              "      buttonEl.style.display =\n",
              "        google.colab.kernel.accessAllowed ? 'block' : 'none';\n",
              "\n",
              "      async function convertToInteractive(key) {\n",
              "        const element = document.querySelector('#df-9f3b984b-39bf-415b-af19-3bb91d669632');\n",
              "        const dataTable =\n",
              "          await google.colab.kernel.invokeFunction('convertToInteractive',\n",
              "                                                    [key], {});\n",
              "        if (!dataTable) return;\n",
              "\n",
              "        const docLinkHtml = 'Like what you see? Visit the ' +\n",
              "          '<a target=\"_blank\" href=https://colab.research.google.com/notebooks/data_table.ipynb>data table notebook</a>'\n",
              "          + ' to learn more about interactive tables.';\n",
              "        element.innerHTML = '';\n",
              "        dataTable['output_type'] = 'display_data';\n",
              "        await google.colab.output.renderOutput(dataTable, element);\n",
              "        const docLink = document.createElement('div');\n",
              "        docLink.innerHTML = docLinkHtml;\n",
              "        element.appendChild(docLink);\n",
              "      }\n",
              "    </script>\n",
              "  </div>\n",
              "\n",
              "\n",
              "<div id=\"df-dde5e2bb-2a87-4e49-a26d-21ceded2935a\">\n",
              "  <button class=\"colab-df-quickchart\" onclick=\"quickchart('df-dde5e2bb-2a87-4e49-a26d-21ceded2935a')\"\n",
              "            title=\"Suggest charts\"\n",
              "            style=\"display:none;\">\n",
              "\n",
              "<svg xmlns=\"http://www.w3.org/2000/svg\" height=\"24px\"viewBox=\"0 0 24 24\"\n",
              "     width=\"24px\">\n",
              "    <g>\n",
              "        <path d=\"M19 3H5c-1.1 0-2 .9-2 2v14c0 1.1.9 2 2 2h14c1.1 0 2-.9 2-2V5c0-1.1-.9-2-2-2zM9 17H7v-7h2v7zm4 0h-2V7h2v10zm4 0h-2v-4h2v4z\"/>\n",
              "    </g>\n",
              "</svg>\n",
              "  </button>\n",
              "\n",
              "<style>\n",
              "  .colab-df-quickchart {\n",
              "      --bg-color: #E8F0FE;\n",
              "      --fill-color: #1967D2;\n",
              "      --hover-bg-color: #E2EBFA;\n",
              "      --hover-fill-color: #174EA6;\n",
              "      --disabled-fill-color: #AAA;\n",
              "      --disabled-bg-color: #DDD;\n",
              "  }\n",
              "\n",
              "  [theme=dark] .colab-df-quickchart {\n",
              "      --bg-color: #3B4455;\n",
              "      --fill-color: #D2E3FC;\n",
              "      --hover-bg-color: #434B5C;\n",
              "      --hover-fill-color: #FFFFFF;\n",
              "      --disabled-bg-color: #3B4455;\n",
              "      --disabled-fill-color: #666;\n",
              "  }\n",
              "\n",
              "  .colab-df-quickchart {\n",
              "    background-color: var(--bg-color);\n",
              "    border: none;\n",
              "    border-radius: 50%;\n",
              "    cursor: pointer;\n",
              "    display: none;\n",
              "    fill: var(--fill-color);\n",
              "    height: 32px;\n",
              "    padding: 0;\n",
              "    width: 32px;\n",
              "  }\n",
              "\n",
              "  .colab-df-quickchart:hover {\n",
              "    background-color: var(--hover-bg-color);\n",
              "    box-shadow: 0 1px 2px rgba(60, 64, 67, 0.3), 0 1px 3px 1px rgba(60, 64, 67, 0.15);\n",
              "    fill: var(--button-hover-fill-color);\n",
              "  }\n",
              "\n",
              "  .colab-df-quickchart-complete:disabled,\n",
              "  .colab-df-quickchart-complete:disabled:hover {\n",
              "    background-color: var(--disabled-bg-color);\n",
              "    fill: var(--disabled-fill-color);\n",
              "    box-shadow: none;\n",
              "  }\n",
              "\n",
              "  .colab-df-spinner {\n",
              "    border: 2px solid var(--fill-color);\n",
              "    border-color: transparent;\n",
              "    border-bottom-color: var(--fill-color);\n",
              "    animation:\n",
              "      spin 1s steps(1) infinite;\n",
              "  }\n",
              "\n",
              "  @keyframes spin {\n",
              "    0% {\n",
              "      border-color: transparent;\n",
              "      border-bottom-color: var(--fill-color);\n",
              "      border-left-color: var(--fill-color);\n",
              "    }\n",
              "    20% {\n",
              "      border-color: transparent;\n",
              "      border-left-color: var(--fill-color);\n",
              "      border-top-color: var(--fill-color);\n",
              "    }\n",
              "    30% {\n",
              "      border-color: transparent;\n",
              "      border-left-color: var(--fill-color);\n",
              "      border-top-color: var(--fill-color);\n",
              "      border-right-color: var(--fill-color);\n",
              "    }\n",
              "    40% {\n",
              "      border-color: transparent;\n",
              "      border-right-color: var(--fill-color);\n",
              "      border-top-color: var(--fill-color);\n",
              "    }\n",
              "    60% {\n",
              "      border-color: transparent;\n",
              "      border-right-color: var(--fill-color);\n",
              "    }\n",
              "    80% {\n",
              "      border-color: transparent;\n",
              "      border-right-color: var(--fill-color);\n",
              "      border-bottom-color: var(--fill-color);\n",
              "    }\n",
              "    90% {\n",
              "      border-color: transparent;\n",
              "      border-bottom-color: var(--fill-color);\n",
              "    }\n",
              "  }\n",
              "</style>\n",
              "\n",
              "  <script>\n",
              "    async function quickchart(key) {\n",
              "      const quickchartButtonEl =\n",
              "        document.querySelector('#' + key + ' button');\n",
              "      quickchartButtonEl.disabled = true;  // To prevent multiple clicks.\n",
              "      quickchartButtonEl.classList.add('colab-df-spinner');\n",
              "      try {\n",
              "        const charts = await google.colab.kernel.invokeFunction(\n",
              "            'suggestCharts', [key], {});\n",
              "      } catch (error) {\n",
              "        console.error('Error during call to suggestCharts:', error);\n",
              "      }\n",
              "      quickchartButtonEl.classList.remove('colab-df-spinner');\n",
              "      quickchartButtonEl.classList.add('colab-df-quickchart-complete');\n",
              "    }\n",
              "    (() => {\n",
              "      let quickchartButtonEl =\n",
              "        document.querySelector('#df-dde5e2bb-2a87-4e49-a26d-21ceded2935a button');\n",
              "      quickchartButtonEl.style.display =\n",
              "        google.colab.kernel.accessAllowed ? 'block' : 'none';\n",
              "    })();\n",
              "  </script>\n",
              "</div>\n",
              "\n",
              "    </div>\n",
              "  </div>\n"
            ],
            "application/vnd.google.colaboratory.intrinsic+json": {
              "type": "dataframe",
              "summary": "{\n  \"name\": \"train\",\n  \"rows\": 8,\n  \"fields\": [\n    {\n      \"column\": \"id\",\n      \"properties\": {\n        \"dtype\": \"number\",\n        \"std\": 82939.74644589018,\n        \"min\": 0.0,\n        \"max\": 230130.0,\n        \"num_unique_values\": 7,\n        \"samples\": [\n          230130.0,\n          115064.5,\n          172596.75\n        ],\n        \"semantic_type\": \"\",\n        \"description\": \"\"\n      }\n    },\n    {\n      \"column\": \"num_sold\",\n      \"properties\": {\n        \"dtype\": \"number\",\n        \"std\": 80920.55579694071,\n        \"min\": 5.0,\n        \"max\": 230130.0,\n        \"num_unique_values\": 8,\n        \"samples\": [\n          726.365260331117,\n          575.0,\n          230130.0\n        ],\n        \"semantic_type\": \"\",\n        \"description\": \"\"\n      }\n    }\n  ]\n}"
            }
          },
          "metadata": {},
          "execution_count": 31
        }
      ]
    },
    {
      "cell_type": "code",
      "source": [
        "import seaborn as sns\n",
        "import matplotlib.pyplot as plt\n",
        "\n",
        "plt.figure(figsize=(10, 5))\n",
        "sns.histplot(train['num_sold'], kde=True)\n",
        "plt.title('Distribution of num_sold')\n",
        "plt.show()\n"
      ],
      "metadata": {
        "colab": {
          "base_uri": "https://localhost:8080/",
          "height": 357
        },
        "id": "YGNTJV9o84Jd",
        "outputId": "2e6ac279-ce4d-42c6-e02f-e3f84204ee0a"
      },
      "execution_count": 32,
      "outputs": [
        {
          "output_type": "display_data",
          "data": {
            "text/plain": [
              "<Figure size 1000x500 with 1 Axes>"
            ],
            "image/png": "[encoded data removed]"
          },
          "metadata": {}
        }
      ]
    },
    {
      "cell_type": "code",
      "source": [
        "print(train.columns)\n"
      ],
      "metadata": {
        "colab": {
          "base_uri": "https://localhost:8080/"
        },
        "id": "etrXd9hY87jq",
        "outputId": "79a99f8b-1cf7-4350-d3a1-681728b61fe4"
      },
      "execution_count": 33,
      "outputs": [
        {
          "output_type": "stream",
          "name": "stdout",
          "text": [
            "Index(['id', 'date', 'country', 'store', 'product', 'num_sold'], dtype='object')\n"
          ]
        }
      ]
    },
    {
      "cell_type": "code",
      "source": [
        "# Convert 'num_sold' column to integer type to avoid decimal points\n",
        "train['num_sold'] = train['num_sold'].astype(int)\n"
      ],
      "metadata": {
        "id": "y2xmy6rBBjtS"
      },
      "execution_count": 34,
      "outputs": []
    },
    {
      "cell_type": "code",
      "source": [
        "# Check for any remaining missing values in the dataset\n",
        "train.isnull().sum()\n"
      ],
      "metadata": {
        "colab": {
          "base_uri": "https://localhost:8080/",
          "height": 269
        },
        "id": "8oGo9mfNBo3t",
        "outputId": "9c2dbed8-ee7f-4bea-f6cf-ccde1462327d"
      },
      "execution_count": 35,
      "outputs": [
        {
          "output_type": "execute_result",
          "data": {
            "text/plain": [
              "id          0\n",
              "date        0\n",
              "country     0\n",
              "store       0\n",
              "product     0\n",
              "num_sold    0\n",
              "dtype: int64"
            ],
            "text/html": [
              "<div>\n",
              "<style scoped>\n",
              "    .dataframe tbody tr th:only-of-type {\n",
              "        vertical-align: middle;\n",
              "    }\n",
              "\n",
              "    .dataframe tbody tr th {\n",
              "        vertical-align: top;\n",
              "    }\n",
              "\n",
              "    .dataframe thead th {\n",
              "        text-align: right;\n",
              "    }\n",
              "</style>\n",
              "<table border=\"1\" class=\"dataframe\">\n",
              "  <thead>\n",
              "    <tr style=\"text-align: right;\">\n",
              "      <th></th>\n",
              "      <th>0</th>\n",
              "    </tr>\n",
              "  </thead>\n",
              "  <tbody>\n",
              "    <tr>\n",
              "      <th>id</th>\n",
              "      <td>0</td>\n",
              "    </tr>\n",
              "    <tr>\n",
              "      <th>date</th>\n",
              "      <td>0</td>\n",
              "    </tr>\n",
              "    <tr>\n",
              "      <th>country</th>\n",
              "      <td>0</td>\n",
              "    </tr>\n",
              "    <tr>\n",
              "      <th>store</th>\n",
              "      <td>0</td>\n",
              "    </tr>\n",
              "    <tr>\n",
              "      <th>product</th>\n",
              "      <td>0</td>\n",
              "    </tr>\n",
              "    <tr>\n",
              "      <th>num_sold</th>\n",
              "      <td>0</td>\n",
              "    </tr>\n",
              "  </tbody>\n",
              "</table>\n",
              "</div><br><label><b>dtype:</b> int64</label>"
            ]
          },
          "metadata": {},
          "execution_count": 35
        }
      ]
    },
    {
      "cell_type": "code",
      "source": [
        "# Convert 'date' column to datetime type if it isn't already\n",
        "train['date'] = pd.to_datetime(train['date'])\n",
        "\n",
        "# Extract year, month, day, and day of the week from the 'date' column\n",
        "train['year'] = train['date'].dt.year  # Extract the year\n",
        "train['month'] = train['date'].dt.month  # Extract the month\n",
        "train['day'] = train['date'].dt.day  # Extract the day of the month\n",
        "train['day_of_week'] = train['date'].dt.dayofweek  # Extract the day of the week (0=Monday, 6=Sunday)\n",
        "\n",
        "# Create a new feature 'is_weekend' that indicates whether the day is a weekend (1) or not (0)\n",
        "train['is_weekend'] = (train['day_of_week'] >= 5).astype(int)  # 1 if weekend, else 0\n",
        "\n",
        "# Drop the original 'date' column if you don't need it anymore\n",
        "train.drop(columns=['date'], inplace=True)\n"
      ],
      "metadata": {
        "id": "RiJBVxQMCfAU"
      },
      "execution_count": 36,
      "outputs": []
    },
    {
      "cell_type": "code",
      "source": [
        "print(train.head())\n"
      ],
      "metadata": {
        "colab": {
          "base_uri": "https://localhost:8080/"
        },
        "id": "RK6LmWlQCnqQ",
        "outputId": "31dcc622-4ee8-4516-8902-fec2407849a7"
      },
      "execution_count": 37,
      "outputs": [
        {
          "output_type": "stream",
          "name": "stdout",
          "text": [
            "   id country              store             product  num_sold  year  month  \\\n",
            "0   0  Canada  Discount Stickers   Holographic Goose        93  2010      1   \n",
            "1   1  Canada  Discount Stickers              Kaggle       973  2010      1   \n",
            "2   2  Canada  Discount Stickers        Kaggle Tiers       906  2010      1   \n",
            "3   3  Canada  Discount Stickers            Kerneler       423  2010      1   \n",
            "4   4  Canada  Discount Stickers  Kerneler Dark Mode       491  2010      1   \n",
            "\n",
            "   day  day_of_week  is_weekend  \n",
            "0    1            4           0  \n",
            "1    1            4           0  \n",
            "2    1            4           0  \n",
            "3    1            4           0  \n",
            "4    1            4           0  \n"
          ]
        }
      ]
    },
    {
      "cell_type": "code",
      "source": [
        "# Visualize the distribution of 'is_weekend'\n",
        "import seaborn as sns\n",
        "import matplotlib.pyplot as plt\n",
        "\n",
        "plt.figure(figsize=(6, 4))\n",
        "sns.countplot(data=train, x='is_weekend')\n",
        "plt.title('Distribution of Weekends vs. Weekdays')\n",
        "plt.xlabel('Weekend (1) vs. Weekday (0)')\n",
        "plt.ylabel('Count')\n",
        "plt.show()\n"
      ],
      "metadata": {
        "colab": {
          "base_uri": "https://localhost:8080/",
          "height": 410
        },
        "id": "M6REUc1pC7My",
        "outputId": "835d8e9b-509b-4b33-efed-2ae79816f051"
      },
      "execution_count": 38,
      "outputs": [
        {
          "output_type": "display_data",
          "data": {
            "text/plain": [
              "<Figure size 600x400 with 1 Axes>"
            ],
            "image/png": "[encoded data removed]"
          },
          "metadata": {}
        }
      ]
    },
    {
      "cell_type": "code",
      "source": [
        "from google.colab import drive\n",
        "import pandas as pd\n",
        "\n",
        "# 1. Mount Google Drive (for accessing files)\n",
        "drive.mount('/content/drive')\n",
        "\n",
        "# 2. Define the file path of the CSV\n",
        "file_path = '/content/drive/MyDrive/playground-series-s5e1/train.csv'\n",
        "\n",
        "# 3. Define the chunk size\n",
        "chunk_size = 10000\n",
        "\n",
        "# 4. List to store chunks\n",
        "chunks = []\n",
        "\n",
        "# 5. Read the CSV file in chunks\n",
        "for chunk in pd.read_csv(file_path, chunksize=chunk_size):\n",
        "    # Process each chunk (e.g., convert date and extract features)\n",
        "    chunk['date'] = pd.to_datetime(chunk['date'])\n",
        "    chunk['year'] = chunk['date'].dt.year\n",
        "    chunk['month'] = chunk['date'].dt.month\n",
        "    chunk['day'] = chunk['date'].dt.day\n",
        "    chunk['day_of_week'] = chunk['date'].dt.dayofweek  # 0=Monday, 6=Sunday\n",
        "    chunk['is_weekend'] = (chunk['day_of_week'] >= 5).astype(int)  # 1 if weekend\n",
        "    chunk.drop(columns=['date'], inplace=True)  # Drop original date column\n",
        "\n",
        "    # Store processed chunk\n",
        "    chunks.append(chunk)\n",
        "\n",
        "# 6. Concatenate all chunks into a single DataFrame\n",
        "full_data = pd.concat(chunks, axis=0)\n",
        "\n",
        "# 7. Display the first 5 rows to check the processed data\n",
        "print(full_data.head())\n"
      ],
      "metadata": {
        "colab": {
          "base_uri": "https://localhost:8080/"
        },
        "id": "AKLb0hP_D5E8",
        "outputId": "fd70dead-a75b-4916-e66a-93f1c328ce61"
      },
      "execution_count": 39,
      "outputs": [
        {
          "output_type": "stream",
          "name": "stdout",
          "text": [
            "Drive already mounted at /content/drive; to attempt to forcibly remount, call drive.mount(\"/content/drive\", force_remount=True).\n",
            "   id country              store             product  num_sold  year  month  \\\n",
            "0   0  Canada  Discount Stickers   Holographic Goose       NaN  2010      1   \n",
            "1   1  Canada  Discount Stickers              Kaggle     973.0  2010      1   \n",
            "2   2  Canada  Discount Stickers        Kaggle Tiers     906.0  2010      1   \n",
            "3   3  Canada  Discount Stickers            Kerneler     423.0  2010      1   \n",
            "4   4  Canada  Discount Stickers  Kerneler Dark Mode     491.0  2010      1   \n",
            "\n",
            "   day  day_of_week  is_weekend  \n",
            "0    1            4           0  \n",
            "1    1            4           0  \n",
            "2    1            4           0  \n",
            "3    1            4           0  \n",
            "4    1            4           0  \n"
          ]
        }
      ]
    },
    {
      "cell_type": "code",
      "source": [
        "print(full_data['num_sold'].isnull().sum())"
      ],
      "metadata": {
        "colab": {
          "base_uri": "https://localhost:8080/"
        },
        "id": "li6iRYhIEzlg",
        "outputId": "77264be0-d318-4112-d053-6d8a5ebf3937"
      },
      "execution_count": 40,
      "outputs": [
        {
          "output_type": "stream",
          "name": "stdout",
          "text": [
            "8871\n"
          ]
        }
      ]
    },
    {
      "cell_type": "code",
      "source": [
        "from google.colab import drive\n",
        "import pandas as pd\n",
        "from sklearn.model_selection import train_test_split\n",
        "from sklearn.metrics import mean_absolute_percentage_error, mean_squared_error\n",
        "from sklearn.ensemble import RandomForestRegressor\n",
        "from sklearn.linear_model import LinearRegression\n",
        "from sklearn.tree import DecisionTreeRegressor\n",
        "from sklearn.ensemble import GradientBoostingRegressor\n",
        "\n",
        "# Mount Google Drive to access the file\n",
        "drive.mount('/content/drive')\n",
        "\n",
        "# Define file path\n",
        "file_path = '/content/drive/MyDrive/playground-series-s5e1/train.csv'\n",
        "\n",
        "# Chunk size\n",
        "chunk_size = 10000\n",
        "\n",
        "# Initialize lists to store chunks of data and models\n",
        "chunks = []\n",
        "models = {\n",
        "    'Random Forest': RandomForestRegressor(n_estimators=100, random_state=42),\n",
        "    'Linear Regression': LinearRegression(),\n",
        "    'Decision Tree': DecisionTreeRegressor(random_state=42),\n",
        "    'Gradient Boosting': GradientBoostingRegressor(random_state=42)\n",
        "}\n",
        "\n",
        "# Function to process each chunk and impute missing values\n",
        "def process_chunk(chunk, model):\n",
        "    # Convert 'date' column to datetime format\n",
        "    chunk['date'] = pd.to_datetime(chunk['date'])\n",
        "\n",
        "    # Extract year, month, day, and day_of_week from 'date'\n",
        "    chunk['year'] = chunk['date'].dt.year\n",
        "    chunk['month'] = chunk['date'].dt.month\n",
        "    chunk['day'] = chunk['date'].dt.day\n",
        "    chunk['day_of_week'] = chunk['date'].dt.dayofweek  # 0=Monday, 6=Sunday\n",
        "    chunk['is_weekend'] = (chunk['day_of_week'] >= 5).astype(int)  # 1 if weekend\n",
        "\n",
        "    # Drop the original 'date' column as it's not needed anymore\n",
        "    chunk.drop(columns=['date'], inplace=True)\n",
        "\n",
        "    # Apply One-Hot Encoding to categorical columns (like 'country', 'store', 'product')\n",
        "    chunk_encoded = pd.get_dummies(chunk, drop_first=True)\n",
        "\n",
        "    # Separate rows with missing and non-missing 'num_sold'\n",
        "    train_not_missing = chunk_encoded[chunk_encoded['num_sold'].notna()]\n",
        "    train_missing = chunk_encoded[chunk_encoded['num_sold'].isna()]\n",
        "\n",
        "    # Features (X) and target (y) for rows with no missing values\n",
        "    X_train = train_not_missing.drop(columns=['num_sold', 'id'])\n",
        "    y_train = train_not_missing['num_sold']\n",
        "\n",
        "    # Train the model\n",
        "    model.fit(X_train, y_train)\n",
        "\n",
        "    # Features for rows with missing values\n",
        "    X_missing = train_missing.drop(columns=['num_sold', 'id'])\n",
        "\n",
        "    # Predict the missing values\n",
        "    predicted_values = model.predict(X_missing)\n",
        "\n",
        "    # Ensure predicted_values is assigned correctly\n",
        "    if len(predicted_values) == len(X_missing):\n",
        "        # Fill the missing values in the original chunk\n",
        "        chunk_encoded.loc[chunk_encoded['num_sold'].isna(), 'num_sold'] = predicted_values\n",
        "    else:\n",
        "        print(\"Error: The length of predicted values does not match the number of missing entries.\")\n",
        "\n",
        "    return chunk_encoded\n",
        "\n",
        "# Read the data in chunks and impute missing values using the best model\n",
        "best_model = None\n",
        "best_score = float('inf')  # Start with a very high value for comparison\n",
        "\n",
        "# Iterate through each model and find the best one for imputation\n",
        "for name, model in models.items():\n",
        "    print(f\"Processing with model: {name}\")\n",
        "\n",
        "    # Read the CSV file in chunks\n",
        "    processed_chunks = []\n",
        "    for chunk in pd.read_csv(file_path, chunksize=chunk_size):\n",
        "        # Process the chunk and impute missing values using the model\n",
        "        processed_chunk = process_chunk(chunk, model)\n",
        "        processed_chunks.append(processed_chunk)\n",
        "\n",
        "    # Concatenate all processed chunks\n",
        "    full_data_imputed = pd.concat(processed_chunks, axis=0)\n",
        "\n",
        "    # Evaluate the model's performance using MAPE\n",
        "    X = full_data_imputed.drop(columns=['num_sold', 'id'])\n",
        "    y = full_data_imputed['num_sold']\n",
        "\n",
        "    X_train, X_test, y_train, y_test = train_test_split(X, y, test_size=0.2, random_state=42)\n",
        "    y_pred = model.predict(X_test)\n",
        "\n",
        "    mape = mean_absolute_percentage_error(y_test, y_pred)\n",
        "    mse = mean_squared_error(y_test, y_pred)\n",
        "\n",
        "    print(f\"{name} - MAPE: {mape}, MSE: {mse}\")\n",
        "\n",
        "    # Check if this model has the best performance\n",
        "    if mape < best_score:\n",
        "        best_score = mape\n",
        "        best_model = model\n",
        "\n",
        "# Print the best model\n",
        "print(f\"\\nBest Model for Imputation: {best_model}\")\n"
      ],
      "metadata": {
        "colab": {
          "base_uri": "https://localhost:8080/"
        },
        "id": "JPFypS6MIgSS",
        "outputId": "c40b62b1-1561-479d-c1de-4e7a40f57623"
      },
      "execution_count": 43,
      "outputs": [
        {
          "output_type": "stream",
          "name": "stdout",
          "text": [
            "Drive already mounted at /content/drive; to attempt to forcibly remount, call drive.mount(\"/content/drive\", force_remount=True).\n",
            "Processing with model: Random Forest\n",
            "Random Forest - MAPE: 0.6685561792942323, MSE: 137392.20726905012\n",
            "Processing with model: Linear Regression\n",
            "Linear Regression - MAPE: 7.398004302002284, MSE: 161246.49089593947\n",
            "Processing with model: Decision Tree\n",
            "Decision Tree - MAPE: 0.4173712918336476, MSE: 92650.183570156\n",
            "Processing with model: Gradient Boosting\n",
            "Gradient Boosting - MAPE: 1.3227969601141758, MSE: 92567.46711001561\n",
            "\n",
            "Best Model for Imputation: DecisionTreeRegressor(random_state=42)\n"
          ]
        }
      ]
    },
    {
      "cell_type": "code",
      "source": [
        "# Assuming 'best_model' is the trained DecisionTreeRegressor\n",
        "# Initialize the best model (DecisionTreeRegressor) to impute missing values\n",
        "best_model = DecisionTreeRegressor(random_state=42)\n",
        "\n",
        "# Initialize an empty list to store processed chunks\n",
        "processed_chunks = []\n",
        "\n",
        "# Process data in chunks\n",
        "for chunk in pd.read_csv(file_path, chunksize=chunk_size):\n",
        "    processed_chunk = process_chunk(chunk, best_model)\n",
        "    processed_chunks.append(processed_chunk)\n",
        "\n",
        "# Combine all processed chunks\n",
        "full_data_imputed = pd.concat(processed_chunks, axis=0)\n",
        "\n",
        "# Check if there are remaining missing values\n",
        "print(f\"Remaining missing values in 'num_sold': {full_data_imputed['num_sold'].isna().sum()}\")\n"
      ],
      "metadata": {
        "colab": {
          "base_uri": "https://localhost:8080/"
        },
        "id": "zP9AbY-mMtzk",
        "outputId": "34452dc3-a8b2-480b-cb4e-76262f7b5b9f"
      },
      "execution_count": 44,
      "outputs": [
        {
          "output_type": "stream",
          "name": "stdout",
          "text": [
            "Remaining missing values in 'num_sold': 0\n"
          ]
        }
      ]
    },
    {
      "cell_type": "code",
      "source": [
        "# Save the imputed data to a new CSV file\n",
        "output_file = '/content/drive/MyDrive/playground-series-s5e1/imputed_train.csv'\n",
        "full_data_imputed.to_csv(output_file, index=False)\n",
        "\n",
        "print(f\"Imputed dataset saved to {output_file}\")\n"
      ],
      "metadata": {
        "colab": {
          "base_uri": "https://localhost:8080/"
        },
        "id": "GhEHBYrBMyv_",
        "outputId": "64428884-506a-44b2-8604-87b4e1177d18"
      },
      "execution_count": 45,
      "outputs": [
        {
          "output_type": "stream",
          "name": "stdout",
          "text": [
            "Imputed dataset saved to /content/drive/MyDrive/playground-series-s5e1/imputed_train.csv\n"
          ]
        }
      ]
    },
    {
      "cell_type": "code",
      "source": [
        "import matplotlib.pyplot as plt\n",
        "\n",
        "# Visualizing the distribution of 'num_sold' before and after imputation\n",
        "original_data = pd.read_csv('/content/drive/MyDrive/playground-series-s5e1/train.csv')  # Read the original dataset\n",
        "\n",
        "plt.figure(figsize=(10, 5))\n",
        "\n",
        "# Plot before imputation\n",
        "plt.hist(original_data['num_sold'].dropna(), alpha=0.5, label='Before Imputation', bins=50)\n",
        "\n",
        "# Plot after imputation\n",
        "full_data_imputed['num_sold'].hist(alpha=0.5, label='After Imputation', bins=50)\n",
        "\n",
        "plt.legend()\n",
        "plt.title('Distribution of num_sold Before and After Imputation')\n",
        "plt.xlabel('num_sold')\n",
        "plt.ylabel('Frequency')\n",
        "plt.show()\n"
      ],
      "metadata": {
        "colab": {
          "base_uri": "https://localhost:8080/",
          "height": 357
        },
        "id": "tgQly62BNYAa",
        "outputId": "5ffeff40-33d3-4cb7-903c-1846bb01b797"
      },
      "execution_count": 46,
      "outputs": [
        {
          "output_type": "display_data",
          "data": {
            "text/plain": [
              "<Figure size 1000x500 with 1 Axes>"
            ],
            "image/png": "[encoded data removed]"
          },
          "metadata": {}
        }
      ]
    },
    {
      "cell_type": "code",
      "source": [
        "from sklearn.tree import DecisionTreeRegressor\n",
        "from sklearn.model_selection import train_test_split\n",
        "from sklearn.metrics import mean_squared_error\n",
        "import pandas as pd\n",
        "\n",
        "# Initialize the best model (DecisionTreeRegressor)\n",
        "best_model = DecisionTreeRegressor(random_state=42)\n",
        "\n",
        "# Define the file path (already known)\n",
        "file_path = '/content/drive/MyDrive/playground-series-s5e1/train.csv'\n",
        "\n",
        "# Initialize an empty list to store processed chunks\n",
        "processed_chunks = []\n",
        "\n",
        "# Read and process the data in chunks\n",
        "for chunk in pd.read_csv(file_path, chunksize=10000):\n",
        "    # Process each chunk and impute missing values using the best model (DecisionTreeRegressor)\n",
        "    processed_chunk = process_chunk(chunk, best_model)\n",
        "    processed_chunks.append(processed_chunk)\n",
        "\n",
        "# Concatenate all processed chunks into a single DataFrame\n",
        "full_data_imputed = pd.concat(processed_chunks, axis=0)\n",
        "\n",
        "# Split the imputed data into features (X) and target (y)\n",
        "X = full_data_imputed.drop(columns=['num_sold', 'id'])  # Features\n",
        "y = full_data_imputed['num_sold']  # Target\n",
        "\n",
        "# Split into training and testing sets (80% training, 20% testing)\n",
        "X_train, X_test, y_train, y_test = train_test_split(X, y, test_size=0.2, random_state=42)\n",
        "\n",
        "# Train the model\n",
        "best_model.fit(X_train, y_train)\n",
        "\n",
        "# Make predictions on the test set\n",
        "y_pred = best_model.predict(X_test)\n",
        "\n",
        "# Evaluate the model using Mean Squared Error (MSE)\n",
        "mse = mean_squared_error(y_test, y_pred)\n",
        "print(f\"DecisionTreeRegressor Model Mean Squared Error (MSE): {mse}\")\n"
      ],
      "metadata": {
        "colab": {
          "base_uri": "https://localhost:8080/"
        },
        "id": "MyZu3mJDPYRE",
        "outputId": "3abe93c1-941b-4b45-af84-743caaeebe7c"
      },
      "execution_count": 47,
      "outputs": [
        {
          "output_type": "stream",
          "name": "stdout",
          "text": [
            "DecisionTreeRegressor Model Mean Squared Error (MSE): 8201.377069482467\n"
          ]
        }
      ]
    },
    {
      "cell_type": "code",
      "source": [
        "# Calculate the minimum and maximum values of 'num_sold'\n",
        "min_value = full_data_imputed['num_sold'].min()\n",
        "max_value = full_data_imputed['num_sold'].max()\n",
        "\n",
        "# Display the range of 'num_sold'\n",
        "print(f\"Range of 'num_sold': {min_value} to {max_value}\")\n"
      ],
      "metadata": {
        "colab": {
          "base_uri": "https://localhost:8080/"
        },
        "id": "1OOqClbjQdOm",
        "outputId": "40dad2e7-c878-457e-c946-58431b72ecdd"
      },
      "execution_count": 48,
      "outputs": [
        {
          "output_type": "stream",
          "name": "stdout",
          "text": [
            "Range of 'num_sold': 5.0 to 5939.0\n"
          ]
        }
      ]
    },
    {
      "cell_type": "code",
      "source": [
        "from sklearn.preprocessing import MinMaxScaler\n",
        "\n",
        "# Initialize the MinMaxScaler\n",
        "scaler = MinMaxScaler()\n",
        "\n",
        "# Scale the 'num_sold' column (you can scale the entire dataset or just target column)\n",
        "full_data_imputed['num_sold_scaled'] = scaler.fit_transform(full_data_imputed[['num_sold']])\n",
        "\n",
        "# Now you can use 'num_sold_scaled' for training the model\n"
      ],
      "metadata": {
        "id": "-Z5nq84AQtvH"
      },
      "execution_count": 49,
      "outputs": []
    },
    {
      "cell_type": "code",
      "source": [
        "import numpy as np\n",
        "rmse = np.sqrt(mean_squared_error(y_test, y_pred))\n",
        "print(f\"Root Mean Squared Error (RMSE): {rmse}\")\n"
      ],
      "metadata": {
        "colab": {
          "base_uri": "https://localhost:8080/"
        },
        "id": "sRAd1_GJQwDk",
        "outputId": "f55c057c-120e-45ba-9e2b-ac4b28757102"
      },
      "execution_count": 50,
      "outputs": [
        {
          "output_type": "stream",
          "name": "stdout",
          "text": [
            "Root Mean Squared Error (RMSE): 90.561454656396\n"
          ]
        }
      ]
    },
    {
      "cell_type": "code",
      "source": [
        "import matplotlib.pyplot as plt\n",
        "\n",
        "# Plot actual vs predicted values\n",
        "plt.figure(figsize=(10, 6))\n",
        "plt.scatter(y_test, y_pred, alpha=0.5, color='b', label='Predictions')\n",
        "plt.plot([min(y_test), max(y_test)], [min(y_test), max(y_test)], color='r', linestyle='--', label='Perfect Prediction')\n",
        "plt.xlabel('Actual num_sold')\n",
        "plt.ylabel('Predicted num_sold')\n",
        "plt.title('Actual vs Predicted num_sold')\n",
        "plt.legend()\n",
        "plt.show()\n"
      ],
      "metadata": {
        "colab": {
          "base_uri": "https://localhost:8080/",
          "height": 417
        },
        "id": "3O_Bw3OBQ9Qp",
        "outputId": "f455e75f-ff3a-4573-c1d8-1fbe6080b558"
      },
      "execution_count": 51,
      "outputs": [
        {
          "output_type": "display_data",
          "data": {
            "text/plain": [
              "<Figure size 1000x600 with 1 Axes>"
            ],
            "image/png": "[encoded data removed]"
          },
          "metadata": {}
        }
      ]
    },
    {
      "cell_type": "code",
      "source": [
        "from sklearn.metrics import r2_score\n",
        "\n",
        "# Calculate R²\n",
        "r2 = r2_score(y_test, y_pred)\n",
        "print(f\"R² Score: {r2}\")\n"
      ],
      "metadata": {
        "colab": {
          "base_uri": "https://localhost:8080/"
        },
        "id": "94o_3MKoRA35",
        "outputId": "653e6e8b-e67f-4519-8efc-a458efb2c6da"
      },
      "execution_count": 52,
      "outputs": [
        {
          "output_type": "stream",
          "name": "stdout",
          "text": [
            "R² Score: 0.9827738210450001\n"
          ]
        }
      ]
    },
    {
      "cell_type": "code",
      "source": [
        "from sklearn.model_selection import cross_val_score\n",
        "import numpy as np\n",
        "\n",
        "# Initialize the DecisionTreeRegressor model (or the best model)\n",
        "best_model = DecisionTreeRegressor(random_state=42)\n",
        "\n",
        "# Perform 5-fold cross-validation\n",
        "cv_scores = cross_val_score(best_model, X, y, cv=5, scoring='neg_mean_squared_error')\n",
        "\n",
        "# Convert negative MSE to positive (since sklearn returns negative MSE for minimization)\n",
        "cv_rmse = np.sqrt(-cv_scores)\n",
        "\n",
        "# Print the cross-validation results\n",
        "print(f\"Cross-validated RMSE scores: {cv_rmse}\")\n",
        "print(f\"Average cross-validated RMSE: {cv_rmse.mean()}\")\n"
      ],
      "metadata": {
        "colab": {
          "base_uri": "https://localhost:8080/"
        },
        "id": "sKW_GtzPRLpg",
        "outputId": "0109ea01-ca31-4084-cea5-a65c6d523aec"
      },
      "execution_count": 53,
      "outputs": [
        {
          "output_type": "stream",
          "name": "stdout",
          "text": [
            "Cross-validated RMSE scores: [196.05704114 129.13847923 119.56378878 123.21023445 108.02842866]\n",
            "Average cross-validated RMSE: 135.1995944516998\n"
          ]
        }
      ]
    },
    {
      "cell_type": "code",
      "source": [
        "from sklearn.model_selection import RandomizedSearchCV\n",
        "import numpy as np\n",
        "\n",
        "# Define the hyperparameter distribution for RandomizedSearchCV\n",
        "param_dist = {\n",
        "    'max_depth': [5, 10, 20, None],  # Depth of the tree\n",
        "    'min_samples_split': [2, 5, 10],  # Minimum samples required to split a node\n",
        "    'min_samples_leaf': [1, 2, 4],  # Minimum samples required at a leaf node\n",
        "    'max_features': ['auto', 'sqrt', 'log2', None]  # Number of features to consider at each split\n",
        "}\n",
        "\n",
        "# Initialize the DecisionTreeRegressor model\n",
        "best_model = DecisionTreeRegressor(random_state=42)\n",
        "\n",
        "# Initialize RandomizedSearchCV with 10 random combinations and 5-fold cross-validation\n",
        "random_search = RandomizedSearchCV(estimator=best_model, param_distributions=param_dist,\n",
        "                                   n_iter=10, cv=5, n_jobs=-1, verbose=2, random_state=42)\n",
        "\n",
        "# Fit RandomizedSearchCV on the training data\n",
        "random_search.fit(X_train, y_train)\n",
        "\n",
        "# Print the best hyperparameters found by RandomizedSearchCV\n",
        "print(f\"Best hyperparameters found: {random_search.best_params_}\")\n",
        "\n",
        "# Use the best model found by RandomizedSearchCV to make predictions\n",
        "best_dt_model = random_search.best_estimator_\n",
        "y_pred_best = best_dt_model.predict(X_test)\n",
        "\n",
        "# Evaluate the tuned model using Mean Squared Error (MSE)\n",
        "from sklearn.metrics import mean_squared_error\n",
        "mse_best = mean_squared_error(y_test, y_pred_best)\n",
        "print(f\"Tuned DecisionTreeRegressor Model Mean Squared Error (MSE): {mse_best}\")\n",
        "\n",
        "# Optionally, calculate RMSE to compare with previous performance\n",
        "rmse_best = np.sqrt(mse_best)\n",
        "print(f\"Tuned DecisionTreeRegressor Model Root Mean Squared Error (RMSE): {rmse_best}\")\n"
      ],
      "metadata": {
        "colab": {
          "base_uri": "https://localhost:8080/"
        },
        "id": "GU7ZLVpnk0UM",
        "outputId": "82900671-0e36-4a14-917d-c073d2206553"
      },
      "execution_count": 54,
      "outputs": [
        {
          "output_type": "stream",
          "name": "stdout",
          "text": [
            "Fitting 5 folds for each of 10 candidates, totalling 50 fits\n",
            "Best hyperparameters found: {'min_samples_split': 2, 'min_samples_leaf': 2, 'max_features': None, 'max_depth': 10}\n",
            "Tuned DecisionTreeRegressor Model Mean Squared Error (MSE): 9127.684532435811\n",
            "Tuned DecisionTreeRegressor Model Root Mean Squared Error (RMSE): 95.53891632437438\n"
          ]
        }
      ]
    },
    {
      "cell_type": "code",
      "source": [
        "from sklearn.preprocessing import MinMaxScaler\n",
        "\n",
        "scaler = MinMaxScaler()\n",
        "X_scaled = scaler.fit_transform(X)\n",
        "\n",
        "from sklearn.model_selection import cross_val_score\n",
        "\n",
        "cv_scores = cross_val_score(best_model, X_scaled, y, cv=5, scoring='neg_mean_squared_error')\n",
        "cv_rmse = np.sqrt(-cv_scores)\n",
        "print(f\"Cross-validated RMSE: {cv_rmse}\")\n",
        "print(f\"Average cross-validated RMSE: {cv_rmse.mean()}\")\n"
      ],
      "metadata": {
        "colab": {
          "base_uri": "https://localhost:8080/"
        },
        "id": "xj7boMWBl3XF",
        "outputId": "14afd5d1-20fe-4a0a-cd77-6ae3d554922d"
      },
      "execution_count": 56,
      "outputs": [
        {
          "output_type": "stream",
          "name": "stdout",
          "text": [
            "Cross-validated RMSE: [196.20479167 127.00405379 119.78316939 127.9449054  108.19722455]\n",
            "Average cross-validated RMSE: 135.82682896024625\n"
          ]
        }
      ]
    }
  ],
  "metadata": {
    "colab": {
      "provenance": [],
      "mount_file_id": "16aazaD8fcqLtSHB8HX06nqRO1RBua1nO",
      "authorship_tag": "ABX9TyPhZWWbqZkrTG8R5WoVrQns",
      "include_colab_link": true
    },
    "kernelspec": {
      "display_name": "Python 3",
      "name": "python3"
    },
    "language_info": {
      "name": "python"
    }
  },
  "nbformat": 4,
  "nbformat_minor": 0
}